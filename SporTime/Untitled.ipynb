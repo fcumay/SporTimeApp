{
 "cells": [
  {
   "cell_type": "code",
   "execution_count": 1,
   "id": "64037ee2",
   "metadata": {},
   "outputs": [],
   "source": [
    "from django.db import models\n",
    "\n",
    "\n",
    "from blog.models import Post"
   ]
  },
  {
   "cell_type": "code",
   "execution_count": 2,
   "id": "833d6811",
   "metadata": {},
   "outputs": [],
   "source": [
    "post_test_title = Post.objects.create(title ='ok')\n",
    "post_test_title.title ='super'\n",
    "post_test_title.save()\n"
   ]
  },
  {
   "cell_type": "code",
   "execution_count": 3,
   "id": "a14c2949",
   "metadata": {},
   "outputs": [
    {
     "data": {
      "text/plain": [
       "<QuerySet ['super']>"
      ]
     },
     "execution_count": 3,
     "metadata": {},
     "output_type": "execute_result"
    }
   ],
   "source": [
    "Post.objects.values_list('title', flat = True)"
   ]
  },
  {
   "cell_type": "code",
   "execution_count": null,
   "id": "8d247efb",
   "metadata": {},
   "outputs": [],
   "source": []
  }
 ],
 "metadata": {
  "kernelspec": {
   "display_name": "Django Shell-Plus",
   "language": "python",
   "name": "django_extensions"
  },
  "language_info": {
   "codemirror_mode": {
    "name": "ipython",
    "version": 3
   },
   "file_extension": ".py",
   "mimetype": "text/x-python",
   "name": "python",
   "nbconvert_exporter": "python",
   "pygments_lexer": "ipython3",
   "version": "3.10.4"
  }
 },
 "nbformat": 4,
 "nbformat_minor": 5
}
